{
 "cells": [
  {
   "cell_type": "code",
   "execution_count": 10,
   "metadata": {
    "collapsed": true
   },
   "outputs": [],
   "source": [
    "'''--- Day 2: Corruption Checksum ---\n",
    "\n",
    "As you walk through the door, a glowing humanoid shape yells in your direction. \"You there! Your state appears to be \n",
    "idle. Come help us repair the corruption in this spreadsheet - if we take another millisecond, we'll have to display \n",
    "an hourglass cursor!\"\n",
    "\n",
    "The spreadsheet consists of rows of apparently-random numbers. To make sure the recovery process is on the right track, \n",
    "they need you to calculate the spreadsheet's checksum. For each row, determine the difference between the largest value \n",
    "and the smallest value; the checksum is the sum of all of these differences.\n",
    "\n",
    "For example, given the following spreadsheet:\n",
    "\n",
    "5 1 9 5\n",
    "7 5 3\n",
    "2 4 6 8\n",
    "\n",
    "    The first row's largest and smallest values are 9 and 1, and their difference is 8.\n",
    "    The second row's largest and smallest values are 7 and 3, and their difference is 4.\n",
    "    The third row's difference is 6.\n",
    "\n",
    "In this example, the spreadsheet's checksum would be 8 + 4 + 6 = 18.\n",
    "\n",
    "What is the checksum for the spreadsheet in your puzzle input?\n",
    "'''\n",
    "\n",
    "input='''6046\t6349\t208\t276\t4643\t1085\t1539\t4986\t7006\t5374\t252\t4751\t226\t6757\t7495\t2923\n",
    "1432\t1538\t1761\t1658\t104\t826\t806\t109\t939\t886\t1497\t280\t1412\t127\t1651\t156\n",
    "244\t1048\t133\t232\t226\t1072\t883\t1045\t1130\t252\t1038\t1022\t471\t70\t1222\t957\n",
    "87\t172\t93\t73\t67\t192\t249\t239\t155\t23\t189\t106\t55\t174\t181\t116\n",
    "5871\t204\t6466\t6437\t5716\t232\t1513\t7079\t6140\t268\t350\t6264\t6420\t3904\t272\t5565\n",
    "1093\t838\t90\t1447\t1224\t744\t1551\t59\t328\t1575\t1544\t1360\t71\t1583\t75\t370\n",
    "213\t166\t7601\t6261\t247\t210\t4809\t6201\t6690\t6816\t7776\t2522\t5618\t580\t2236\t3598\n",
    "92\t168\t96\t132\t196\t157\t116\t94\t253\t128\t60\t167\t192\t156\t76\t148\n",
    "187\t111\t141\t143\t45\t132\t140\t402\t134\t227\t342\t276\t449\t148\t170\t348\n",
    "1894\t1298\t1531\t1354\t1801\t974\t85\t93\t1712\t130\t1705\t110\t314\t107\t449\t350\n",
    "1662\t1529\t784\t1704\t1187\t83\t422\t146\t147\t1869\t1941\t110\t525\t1293\t158\t1752\n",
    "162\t1135\t3278\t1149\t3546\t3686\t182\t149\t119\t1755\t3656\t2126\t244\t3347\t157\t865\n",
    "2049\t6396\t4111\t6702\t251\t669\t1491\t245\t210\t4314\t6265\t694\t5131\t228\t6195\t6090\n",
    "458\t448\t324\t235\t69\t79\t94\t78\t515\t68\t380\t64\t440\t508\t503\t452\n",
    "198\t216\t5700\t4212\t2370\t143\t5140\t190\t4934\t539\t5054\t3707\t6121\t5211\t549\t2790\n",
    "3021\t3407\t218\t1043\t449\t214\t1594\t3244\t3097\t286\t114\t223\t1214\t3102\t257\t3345'''"
   ]
  },
  {
   "cell_type": "code",
   "execution_count": 11,
   "metadata": {
    "collapsed": false
   },
   "outputs": [
    {
     "name": "stdout",
     "output_type": "stream",
     "text": [
      "50376\n"
     ]
    },
    {
     "data": {
      "text/plain": [
       "[7287,\n",
       " 1657,\n",
       " 1152,\n",
       " 226,\n",
       " 6875,\n",
       " 1524,\n",
       " 7610,\n",
       " 193,\n",
       " 404,\n",
       " 1809,\n",
       " 1858,\n",
       " 3567,\n",
       " 6492,\n",
       " 451,\n",
       " 5978,\n",
       " 3293]"
      ]
     },
     "execution_count": 11,
     "metadata": {},
     "output_type": "execute_result"
    }
   ],
   "source": [
    "checksums=[]\n",
    "for line in input.split(\"\\n\"):\n",
    "    vals = [int(x) for x in line.split()]\n",
    "    checksums.append( max(vals) - min(vals) )\n",
    "print(sum(checksums))\n",
    "checksums"
   ]
  },
  {
   "cell_type": "code",
   "execution_count": 13,
   "metadata": {
    "collapsed": false
   },
   "outputs": [
    {
     "name": "stdout",
     "output_type": "stream",
     "text": [
      "267\n"
     ]
    },
    {
     "data": {
      "text/plain": [
       "[31, 13, 5, 2, 27, 21, 32, 2, 3, 16, 12, 22, 29, 7, 30, 15]"
      ]
     },
     "execution_count": 13,
     "metadata": {},
     "output_type": "execute_result"
    }
   ],
   "source": [
    "# Part 2\n",
    "'''--- Part Two ---\n",
    "\n",
    "\"Great work; looks like we're on the right track after all. Here's a star for your effort.\" However, the program seems a little worried. Can programs be worried?\n",
    "\n",
    "\"Based on what we're seeing, it looks like all the User wanted is some information about the evenly divisible values in the spreadsheet. Unfortunately, none of us are equipped for that kind of calculation - most of us specialize in bitwise operations.\"\n",
    "\n",
    "It sounds like the goal is to find the only two numbers in each row where one evenly divides the other - that is, where the result of the division operation is a whole number. They would like you to find those numbers on each line, divide them, and add up each line's result.\n",
    "\n",
    "For example, given the following spreadsheet:\n",
    "\n",
    "5 9 2 8\n",
    "9 4 7 3\n",
    "3 8 6 5\n",
    "\n",
    "    In the first row, the only two numbers that evenly divide are 8 and 2; the result of this division is 4.\n",
    "    In the second row, the two numbers are 9 and 3; the result is 3.\n",
    "    In the third row, the result is 2.\n",
    "\n",
    "In this example, the sum of the results would be 4 + 3 + 2 = 9.\n",
    "\n",
    "What is the sum of each row's result in your puzzle input?\n",
    "'''\n",
    "divisibles=[]\n",
    "for line in input.split(\"\\n\"):\n",
    "    vals = sorted([int(x) for x in line.split()])\n",
    "    while vals:\n",
    "        v = vals.pop(0)\n",
    "        for rest in vals:\n",
    "            x,y = divmod(rest,v)\n",
    "            if x>1 and not y:\n",
    "                divisibles.append( x )\n",
    "                break\n",
    "print(sum(divisibles))\n",
    "divisibles"
   ]
  },
  {
   "cell_type": "code",
   "execution_count": null,
   "metadata": {
    "collapsed": true
   },
   "outputs": [],
   "source": []
  }
 ],
 "metadata": {
  "kernelspec": {
   "display_name": "Python 3",
   "language": "python",
   "name": "python3"
  },
  "language_info": {
   "codemirror_mode": {
    "name": "ipython",
    "version": 3
   },
   "file_extension": ".py",
   "mimetype": "text/x-python",
   "name": "python",
   "nbconvert_exporter": "python",
   "pygments_lexer": "ipython3",
   "version": "3.6.3"
  }
 },
 "nbformat": 4,
 "nbformat_minor": 2
}
