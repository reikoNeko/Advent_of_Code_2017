{
 "cells": [
  {
   "cell_type": "code",
   "execution_count": 1,
   "metadata": {
    "collapsed": false
   },
   "outputs": [
    {
     "data": {
      "text/plain": [
       "537"
      ]
     },
     "execution_count": 1,
     "metadata": {},
     "output_type": "execute_result"
    }
   ],
   "source": [
    "'''--- Day 3: Spiral Memory ---\n",
    "\n",
    "You come across an experimental new kind of memory stored on an infinite two-dimensional grid.\n",
    "\n",
    "Each square on the grid is allocated in a spiral pattern starting at a location marked 1 and then counting up while spiraling outward. For example, the first few squares are allocated like this:\n",
    "\n",
    "17  16  15  14  13\n",
    "18   5   4   3  12\n",
    "19   6   1   2  11\n",
    "20   7   8   9  10\n",
    "21  22  23---> ...\n",
    "\n",
    "While this is very space-efficient (no squares are skipped), requested data must be carried back to square 1 (the location of the only access port for this memory system) by programs that can only move up, down, left, or right. They always take the shortest path: the Manhattan Distance between the location of the data and square 1.\n",
    "\n",
    "For example:\n",
    "\n",
    "    Data from square 1 is carried 0 steps, since it's at the access port.\n",
    "    Data from square 12 is carried 3 steps, such as: down, left, left.\n",
    "    Data from square 23 is carried only 2 steps: up twice.\n",
    "    Data from square 1024 must be carried 31 steps.\n",
    "\n",
    "How many steps are required to carry the data from the square identified in your puzzle input all the way to the access port?\n",
    "\n",
    "Your puzzle input is 289326.'''\n",
    "\n",
    "from math import sqrt\n",
    "\n",
    "# down right (+x,-y) from origin (1) will always be squares of odd numbers: 1,3,5,7,9... where val(x+1,y-1) == (val+2)**2\n",
    "# Distance from each square (or corner) will be maximal for that ring: sqrt(val)-1 \n",
    "# Coordinate for each square will be +x, -y where numeric value is sqrt(val)//2 \n",
    "\n",
    "input=289326\n",
    "diameter={}\n",
    "diameter['inner'] = int(sqrt(input))\n",
    "if not diameter['inner']%2: diameter['inner']-= 1\n",
    "diameter['outer'] = diameter['inner']+2\n",
    "diameter['inner']"
   ]
  },
  {
   "cell_type": "code",
   "execution_count": 2,
   "metadata": {
    "collapsed": false
   },
   "outputs": [
    {
     "data": {
      "text/plain": [
       "(2152, 288369, 290521)"
      ]
     },
     "execution_count": 2,
     "metadata": {},
     "output_type": "execute_result"
    }
   ],
   "source": [
    "lastsquare = diameter['inner']**2\n",
    "nextsquare = diameter['outer']**2\n",
    "nextsquare - lastsquare, lastsquare, nextsquare"
   ]
  },
  {
   "cell_type": "code",
   "execution_count": 3,
   "metadata": {
    "collapsed": false
   },
   "outputs": [
    {
     "data": {
      "text/plain": [
       "[288907, 289445, 289983, 290521]"
      ]
     },
     "execution_count": 3,
     "metadata": {},
     "output_type": "execute_result"
    }
   ],
   "source": [
    "corners = [nextsquare-x*(diameter['outer']-1) for x in [3,2,1,0]]\n",
    "corners"
   ]
  },
  {
   "cell_type": "code",
   "execution_count": 4,
   "metadata": {
    "collapsed": false
   },
   "outputs": [
    {
     "data": {
      "text/plain": [
       "419"
      ]
     },
     "execution_count": 4,
     "metadata": {},
     "output_type": "execute_result"
    }
   ],
   "source": [
    "waypoints = [lastsquare + (nextsquare - lastsquare)//8 *x for x in range(1,9)]\n",
    "centers = [c for c in waypoints if not waypoints.index(c)%2]\n",
    "centers.sort(key=lambda x:abs(input-x))\n",
    "result = diameter['outer']//2+abs(input-centers[0])\n",
    "result"
   ]
  },
  {
   "cell_type": "code",
   "execution_count": 5,
   "metadata": {
    "collapsed": false
   },
   "outputs": [
    {
     "data": {
      "text/plain": [
       "\"--- Part Two ---\\n\\nAs a stress test on the system, the programs here clear the grid and then store the value 1 in square 1. Then, in the same allocation order as shown above, they store the sum of the values in all adjacent squares, including diagonals.\\n\\nSo, the first few squares' values are chosen as follows:\\n\\n    Square 1 starts with the value 1.\\n    Square 2 has only one adjacent filled square (with value 1), so it also stores 1.\\n    Square 3 has both of the above squares as neighbors and stores the sum of their values, 2.\\n    Square 4 has all three of the aforementioned squares as neighbors and stores the sum of their values, 4.\\n    Square 5 only has the first and fourth squares as neighbors, so it gets the value 5.\\n\\nOnce a square is written, its value does not change. Therefore, the first few squares would receive the following values:\\n\\n147  142  133  122   59\\n304    5    4    2   57\\n330   10    1    1   54\\n351   11   23   25   26\\n362  747  806--->   ...\\n\\nWhat is the first value written that is larger than your puzzle input?\""
      ]
     },
     "execution_count": 5,
     "metadata": {},
     "output_type": "execute_result"
    }
   ],
   "source": [
    "'''--- Part Two ---\n",
    "\n",
    "As a stress test on the system, the programs here clear the grid and then store the value 1 in square 1. Then, in the same allocation order as shown above, they store the sum of the values in all adjacent squares, including diagonals.\n",
    "\n",
    "So, the first few squares' values are chosen as follows:\n",
    "\n",
    "    Square 1 starts with the value 1.\n",
    "    Square 2 has only one adjacent filled square (with value 1), so it also stores 1.\n",
    "    Square 3 has both of the above squares as neighbors and stores the sum of their values, 2.\n",
    "    Square 4 has all three of the aforementioned squares as neighbors and stores the sum of their values, 4.\n",
    "    Square 5 only has the first and fourth squares as neighbors, so it gets the value 5.\n",
    "\n",
    "Once a square is written, its value does not change. Therefore, the first few squares would receive the following values:\n",
    "\n",
    "147  142  133  122   59\n",
    "304    5    4    2   57\n",
    "330   10    1    1   54\n",
    "351   11   23   25   26\n",
    "362  747  806--->   ...\n",
    "\n",
    "What is the first value written that is larger than your puzzle input?'''\n"
   ]
  },
  {
   "cell_type": "markdown",
   "metadata": {},
   "source": [
    "Crud. Well, time to actually spiral things."
   ]
  },
  {
   "cell_type": "code",
   "execution_count": null,
   "metadata": {
    "collapsed": true
   },
   "outputs": [],
   "source": []
  }
 ],
 "metadata": {
  "kernelspec": {
   "display_name": "Python 3",
   "language": "python",
   "name": "python3"
  },
  "language_info": {
   "codemirror_mode": {
    "name": "ipython",
    "version": 3
   },
   "file_extension": ".py",
   "mimetype": "text/x-python",
   "name": "python",
   "nbconvert_exporter": "python",
   "pygments_lexer": "ipython3",
   "version": "3.6.3"
  }
 },
 "nbformat": 4,
 "nbformat_minor": 2
}
