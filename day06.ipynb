{
 "cells": [
  {
   "cell_type": "code",
   "execution_count": 1,
   "metadata": {
    "collapsed": false
   },
   "outputs": [],
   "source": [
    "'''--- Day 6: Memory Reallocation ---\n",
    "\n",
    "A debugger program here is having an issue: it is trying to repair a memory reallocation routine, but it \n",
    "keeps getting stuck in an infinite loop.\n",
    "\n",
    "In this area, there are sixteen memory banks; each memory bank can hold any number of blocks. The goal of \n",
    "the reallocation routine is to balance the blocks between the memory banks.\n",
    "\n",
    "The reallocation routine operates in cycles. In each cycle, it finds the memory bank with the most blocks \n",
    "(ties won by the lowest-numbered memory bank) and redistributes those blocks among the banks. To do this, \n",
    "it removes all of the blocks from the selected bank, then moves to the next (by index) memory bank and \n",
    "inserts one of the blocks. It continues doing this until it runs out of blocks; if it reaches the last \n",
    "memory bank, it wraps around to the first one.\n",
    "\n",
    "The debugger would like to know how many redistributions can be done before a blocks-in-banks configuration \n",
    "is produced that has been seen before.\n",
    "\n",
    "For example, imagine a scenario with only four memory banks:\n",
    "\n",
    " *  The banks start with 0, 2, 7, and 0 blocks. The third bank has the most blocks, so it is chosen for \n",
    "    redistribution.\n",
    " *  Starting with the next bank (the fourth bank) and then continuing to the first bank, the second bank, \n",
    "    and so on, the 7 blocks are spread out over the memory banks. The fourth, first, and second banks get \n",
    "    two blocks each, and the third bank gets one back. The final result looks like this: 2 4 1 2.\n",
    " *  Next, the second bank is chosen because it contains the most blocks (four). Because there are four \n",
    "    memory banks, each gets one block. The result is: 3 1 2 3.\n",
    " *  Now, there is a tie between the first and fourth memory banks, both of which have three blocks. The \n",
    "    first bank wins the tie, and its three blocks are distributed evenly over the other three banks, leaving \n",
    "    it with none: 0 2 3 4.\n",
    " *  The fourth bank is chosen, and its four blocks are distributed such that each of the four banks receives \n",
    "    one: 1 3 4 1.\n",
    " *  The third bank is chosen, and the same thing happens: 2 4 1 2.\n",
    "\n",
    "At this point, we've reached a state we've seen before: 2 4 1 2 was already seen. The infinite loop is detected \n",
    "after the fifth block redistribution cycle, and so the answer in this example is 5.\n",
    "\n",
    "Given the initial block counts in your puzzle input, how many redistribution cycles must be completed before a \n",
    "configuration is produced that has been seen before?'''\n",
    "\n",
    "test  = [0,2,7,0]\n",
    "input = [line.split() for line in open('day06.input').readlines()][0]\n",
    "\n",
    "def balance(b):\n",
    "    b = list(b)\n",
    "    val = max(b)\n",
    "    ptr = top = b.index(val)\n",
    "    b[top] = 0\n",
    "    while val:\n",
    "        ptr = (ptr +1)%len(b)\n",
    "        b[ptr] += 1\n",
    "        val -= 1\n",
    "    return b"
   ]
  },
  {
   "cell_type": "code",
   "execution_count": 2,
   "metadata": {
    "collapsed": false
   },
   "outputs": [
    {
     "name": "stdout",
     "output_type": "stream",
     "text": [
      "12841\n",
      "CPU times: user 142 ms, sys: 3.66 ms, total: 145 ms\n",
      "Wall time: 145 ms\n"
     ]
    }
   ],
   "source": [
    "%%time\n",
    "from collections import OrderedDict as OD\n",
    "\n",
    "seen = OD()\n",
    "test = [0,2,7,0]\n",
    "j = [int (x) for x in input]\n",
    "c = 0\n",
    "while str(j) not in seen:\n",
    "    seen[str(j)] = balance(j)\n",
    "    j = balance(j)\n",
    "    c += 1\n",
    "print(c)"
   ]
  },
  {
   "cell_type": "code",
   "execution_count": 3,
   "metadata": {
    "collapsed": false
   },
   "outputs": [
    {
     "name": "stdout",
     "output_type": "stream",
     "text": [
      "12841 8038\n",
      "CPU times: user 124 ms, sys: 12.2 ms, total: 136 ms\n",
      "Wall time: 135 ms\n"
     ]
    }
   ],
   "source": [
    "%%time\n",
    "'''--- Part Two ---\n",
    "\n",
    "Out of curiosity, the debugger would also like to know the size of the loop: starting from a state that has already \n",
    "been seen, how many block redistribution cycles must be performed before that same state is seen again?\n",
    "\n",
    "In the example above, 2 4 1 2 is seen again after four cycles, and so the answer in that example would be 4.\n",
    "\n",
    "How many cycles are in the infinite loop that arises from the configuration in your puzzle input?'''\n",
    "\n",
    "observed = OD()\n",
    "j = [int (x) for x in input]\n",
    "c = 0\n",
    "while str(j) not in observed:\n",
    "    observed[str(j)] = (balance(j), c)\n",
    "    j = balance(j)\n",
    "    c += 1\n",
    "print(c, c-observed[str(j)][1])"
   ]
  }
 ],
 "metadata": {
  "kernelspec": {
   "display_name": "Python 3",
   "language": "python",
   "name": "python3"
  },
  "language_info": {
   "codemirror_mode": {
    "name": "ipython",
    "version": 3
   },
   "file_extension": ".py",
   "mimetype": "text/x-python",
   "name": "python",
   "nbconvert_exporter": "python",
   "pygments_lexer": "ipython3",
   "version": "3.6.3"
  }
 },
 "nbformat": 4,
 "nbformat_minor": 2
}
